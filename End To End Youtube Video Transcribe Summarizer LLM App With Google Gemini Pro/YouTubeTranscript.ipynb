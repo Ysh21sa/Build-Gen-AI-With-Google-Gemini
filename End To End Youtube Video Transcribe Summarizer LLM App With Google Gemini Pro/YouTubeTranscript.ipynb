{
  "nbformat": 4,
  "nbformat_minor": 0,
  "metadata": {
    "colab": {
      "provenance": []
    },
    "kernelspec": {
      "name": "python3",
      "display_name": "Python 3"
    },
    "language_info": {
      "name": "python"
    }
  },
  "cells": [
    {
      "cell_type": "code",
      "execution_count": null,
      "metadata": {
        "id": "ICIZO4670h2h"
      },
      "outputs": [],
      "source": [
        "!pip install -r requirements.txt"
      ]
    },
    {
      "cell_type": "code",
      "source": [
        "%%writefile .env\n",
        "GOOGLE_API_KEY = \"paste your google api key\""
      ],
      "metadata": {
        "id": "XM7NZSsCWzf0"
      },
      "execution_count": null,
      "outputs": []
    },
    {
      "cell_type": "code",
      "source": [
        "import streamlit as st\n",
        "from dotenv import load_dotenv\n",
        "\n",
        "load_dotenv() ##load all the nevironment variables\n",
        "import os\n",
        "import google.generativeai as genai\n",
        "\n",
        "from youtube_transcript_api import YouTubeTranscriptApi\n",
        "\n",
        "genai.configure(api_key=os.getenv(\"GOOGLE_API_KEY\"))\n",
        "\n",
        "prompt=\"\"\"You are Yotube video summarizer. You will be taking the transcript text\n",
        "and summarizing the entire video and providing the important summary in points\n",
        "within 250 words. Please provide the summary of the text given here:  \"\"\"\n",
        "\n",
        "\n",
        "## getting the transcript data from yt videos\n",
        "def extract_transcript_details(youtube_video_url):\n",
        "    try:\n",
        "        video_id=youtube_video_url.split(\"=\")[1]\n",
        "\n",
        "        transcript_text=YouTubeTranscriptApi.get_transcript(video_id)\n",
        "\n",
        "        transcript = \"\"\n",
        "        for i in transcript_text:\n",
        "            transcript += \" \" + i[\"text\"]\n",
        "\n",
        "        return transcript\n",
        "\n",
        "    except Exception as e:\n",
        "        raise e\n",
        "\n",
        "## getting the summary based on Prompt from Google Gemini Pro\n",
        "def generate_gemini_content(transcript_text,prompt):\n",
        "\n",
        "    model=genai.GenerativeModel(\"gemini-pro\")\n",
        "    response=model.generate_content(prompt+transcript_text)\n",
        "    return response.text\n",
        "\n",
        "st.title(\"YouTube Transcript to Detailed Notes Converter\")\n",
        "youtube_link = st.text_input(\"Enter YouTube Video Link:\")\n",
        "\n",
        "if youtube_link:\n",
        "    video_id = youtube_link.split(\"=\")[1]\n",
        "    print(video_id)\n",
        "    st.image(f\"http://img.youtube.com/vi/{video_id}/0.jpg\", use_column_width=True)\n",
        "\n",
        "if st.button(\"Get Detailed Notes\"):\n",
        "    transcript_text=extract_transcript_details(youtube_link)\n",
        "\n",
        "    if transcript_text:\n",
        "        summary=generate_gemini_content(transcript_text,prompt)\n",
        "        st.markdown(\"## Detailed Notes:\")\n",
        "        st.write(summary)\n",
        "\n",
        "\n"
      ],
      "metadata": {
        "id": "YG70alih2y81"
      },
      "execution_count": null,
      "outputs": []
    },
    {
      "cell_type": "code",
      "source": [
        "!npm install -g localtunnel"
      ],
      "metadata": {
        "id": "sketW6rs3qbT"
      },
      "execution_count": null,
      "outputs": []
    },
    {
      "cell_type": "code",
      "source": [
        "!curl ipv4.icanhazip.com"
      ],
      "metadata": {
        "id": "TWhUYxLB4ozu"
      },
      "execution_count": null,
      "outputs": []
    },
    {
      "cell_type": "code",
      "source": [
        "!streamlit run /content/YT VTS.py &> ./logs.txt & npx localtunnel --port 8501"
      ],
      "metadata": {
        "id": "46l-wbfZNG1t"
      },
      "execution_count": null,
      "outputs": []
    }
  ]
}