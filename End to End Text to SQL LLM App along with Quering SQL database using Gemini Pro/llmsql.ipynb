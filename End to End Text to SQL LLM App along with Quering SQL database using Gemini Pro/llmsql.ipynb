{
  "nbformat": 4,
  "nbformat_minor": 0,
  "metadata": {
    "colab": {
      "provenance": []
    },
    "kernelspec": {
      "name": "python3",
      "display_name": "Python 3"
    },
    "language_info": {
      "name": "python"
    }
  },
  "cells": [
    {
      "cell_type": "code",
      "source": [
        "!pip install -r requirements.txt"
      ],
      "metadata": {
        "id": "_-HXHJwrEif_"
      },
      "execution_count": null,
      "outputs": []
    },
    {
      "cell_type": "code",
      "source": [
        "%%writefile .env\n",
        "GOOGLE_API_KEY = \"paste your google api key\""
      ],
      "metadata": {
        "id": "jNdCGORMSQci"
      },
      "execution_count": null,
      "outputs": []
    },
    {
      "cell_type": "code",
      "source": [
        "import sqlite3\n",
        "connection = sqlite3.connect('student.db')\n",
        "#creating a cursor object for crud operations\n",
        "cursor = connection.cursor()\n",
        "\n",
        "#create the table\n",
        "\n",
        "table_info =\"\"\"\n",
        "\n",
        "Create table STUDENT(NAME VARCHAR(25),CLASS VARCHAR(25),\n",
        "SECTION VARCHAR(25),MARKS INT);\n",
        "\n",
        "\"\"\"\n",
        "cursor.execute(table_info)\n",
        "\n",
        "## insert some more records\n",
        "cursor.execute('''Insert into STUDENT values('Krish','Data Science','A',90)''')\n",
        "cursor.execute('''Insert into STUDENT values('Sudha','Data Science','B',100)''')\n",
        "cursor.execute('''Insert into STUDENT values('daru','Data Science','A',86)''')\n",
        "cursor.execute('''Insert into STUDENT values('Vikas','DEVOPS','A',50)''')\n",
        "cursor.execute('''Insert into STUDENT values('Dipesh','DEVOPS','A',35)''')\n",
        "\n",
        "#Display all the records\n",
        "print(\"the inserted records are\")\n",
        "\n",
        "data = cursor.execute('''select * from STUDENT''')\n",
        "for row in data:\n",
        "  print(row)\n",
        "\n",
        "##Close the connection\n",
        "\n",
        "connection.commit()\n",
        "connection.close()"
      ],
      "metadata": {
        "colab": {
          "base_uri": "https://localhost:8080/"
        },
        "id": "3pAPvqqLEh1d",
        "outputId": "a32ac1d0-5cf9-4104-888f-63aaeaa74212"
      },
      "execution_count": null,
      "outputs": [
        {
          "output_type": "stream",
          "name": "stdout",
          "text": [
            "the inserted records are\n",
            "('Krish', 'Data Science', 'A', 90)\n",
            "('Sudha', 'Data Science', 'B', 100)\n",
            "('daru', 'Data Science', 'A', 86)\n",
            "('Vikas', 'DEVOPS', 'A', 50)\n",
            "('Dipesh', 'DEVOPS', 'A', 35)\n"
          ]
        }
      ]
    },
    {
      "cell_type": "code",
      "source": [
        "from dotenv import load_dotenv\n",
        "load_dotenv()\n",
        "\n",
        "import streamlit as st\n",
        "import os\n",
        "import sqlite3\n",
        "\n",
        "import google.generativeai as genai\n",
        "\n",
        "genai.configure(api_key=os.getenv(\"GOOGLE_API_KEY\"))\n",
        "\n",
        "##func to load gemini model and get sql query as response\n",
        "def get_gemini_response(question,prompt):\n",
        "  model = genai.GenerativeModel('gemini-pro')\n",
        "  response = model.generate_content([prompt,question])\n",
        "  return response.text\n",
        "\n",
        "#Function to retrieve query from sql databse\n",
        "def read_sql_query(sql,db):\n",
        "  conn = sqlite3.connect(db)\n",
        "  cur = conn.cursor()\n",
        "  cur.execute(sql)\n",
        "  rows = cur.fetchall()\n",
        "  conn.commit()\n",
        "  conn.close()\n",
        "  for row in rows:\n",
        "    print(row)\n",
        "  return rows\n",
        "\n",
        "prompt=[\n",
        "    \"\"\"\n",
        "    You are an expert in converting English questions to SQL query!\n",
        "    The SQL database has the name STUDENT and has the following columns - NAME, CLASS,\n",
        "    SECTION \\n\\nFor example,\\nExample 1 - How many entries of records are present?,\n",
        "    the SQL command will be something like this SELECT COUNT(*) FROM STUDENT ;\n",
        "    \\nExample 2 - Tell me all the students studying in Data Science class?,\n",
        "    the SQL command will be something like this SELECT * FROM STUDENT\n",
        "    where CLASS=\"Data Science\";\n",
        "    also the sql code should not have ''' in beginning or end and sql word in the output\n",
        "    \"\"\"\n",
        "    ]\n",
        "\n",
        "  ## streamlit app\n",
        "\n",
        "st.set_page_config(page_title=\"I can retrieve any sql query\")\n",
        "st.header(\"Gemini App to retrieve sQL data\")\n",
        "\n",
        "question = st.text_input(\"Input: \",key = \"input\")\n",
        "\n",
        "submit = st.button(\"Ask the question\")\n",
        "\n",
        "  ## if submit is clicked\n",
        "if submit:\n",
        "  response = get_gemini_response(question,prompt)\n",
        "  print(response)\n",
        "  data = read_sql_query(response,\"student.db\")\n",
        "  st.subheader(\"The response is\")\n",
        "  for row in data:\n",
        "    print(row)\n",
        "    st.header(row)"
      ],
      "metadata": {
        "id": "xvuj6kFXAWG0"
      },
      "execution_count": null,
      "outputs": []
    },
    {
      "cell_type": "code",
      "source": [
        "!npm install -g localtunnel"
      ],
      "metadata": {
        "id": "ZIdd6focdqmm"
      },
      "execution_count": null,
      "outputs": []
    },
    {
      "cell_type": "code",
      "source": [
        "!curl ipv4.icanhazip.com"
      ],
      "metadata": {
        "id": "tbt9glUqhDhn"
      },
      "execution_count": null,
      "outputs": []
    },
    {
      "cell_type": "code",
      "source": [
        "!streamlit run /content/llmsql.py &> ./logs.txt & npx localtunnel --port 8501"
      ],
      "metadata": {
        "id": "4YysaKeHhrqu"
      },
      "execution_count": null,
      "outputs": []
    }
  ]
}