{
  "nbformat": 4,
  "nbformat_minor": 0,
  "metadata": {
    "colab": {
      "provenance": []
    },
    "kernelspec": {
      "name": "python3",
      "display_name": "Python 3"
    },
    "language_info": {
      "name": "python"
    }
  },
  "cells": [
    {
      "cell_type": "code",
      "execution_count": null,
      "metadata": {
        "id": "ml8oNNiQWouS"
      },
      "outputs": [],
      "source": [
        "!pip install -r requirements.txt"
      ]
    },
    {
      "cell_type": "code",
      "source": [
        "%%writefile .env\n",
        "GOOGLE_API_KEY = \"paste your google api key\""
      ],
      "metadata": {
        "id": "4CvUibUlVLd9"
      },
      "execution_count": null,
      "outputs": []
    },
    {
      "cell_type": "code",
      "source": [
        "### Health Management APP\n",
        "from dotenv import load_dotenv\n",
        "\n",
        "load_dotenv() ## load all the environment variables\n",
        "\n",
        "import streamlit as st\n",
        "import os\n",
        "import google.generativeai as genai\n",
        "from PIL import Image\n",
        "\n",
        "genai.configure(api_key=os.getenv(\"GOOGLE_API_KEY\"))\n",
        "\n",
        "## Function to load Google Gemini Pro Vision API And get response\n",
        "\n",
        "def get_gemini_repsonse(input,image,prompt):\n",
        "    model=genai.GenerativeModel('gemini-pro-vision')\n",
        "    response=model.generate_content([input,image[0],prompt])\n",
        "    return response.text\n",
        "\n",
        "def input_image_setup(uploaded_file):\n",
        "    # Check if a file has been uploaded\n",
        "    if uploaded_file is not None:\n",
        "        # Read the file into bytes\n",
        "        bytes_data = uploaded_file.getvalue()\n",
        "\n",
        "        image_parts = [\n",
        "            {\n",
        "                \"mime_type\": uploaded_file.type,  # Get the mime type of the uploaded file\n",
        "                \"data\": bytes_data\n",
        "            }\n",
        "        ]\n",
        "        return image_parts\n",
        "    else:\n",
        "        raise FileNotFoundError(\"No file uploaded\")\n",
        "\n",
        "##initialize our streamlit app\n",
        "\n",
        "st.set_page_config(page_title=\"Gemini Health App\")\n",
        "\n",
        "st.header(\"Gemini Health App\")\n",
        "input=st.text_input(\"Input Prompt: \",key=\"input\")\n",
        "uploaded_file = st.file_uploader(\"Choose an image...\", type=[\"jpg\", \"jpeg\", \"png\"])\n",
        "image=\"\"\n",
        "if uploaded_file is not None:\n",
        "    image = Image.open(uploaded_file)\n",
        "    st.image(image, caption=\"Uploaded Image.\", use_column_width=True)\n",
        "\n",
        "\n",
        "submit=st.button(\"Tell me the total calories\")\n",
        "\n",
        "input_prompt=\"\"\"\n",
        "You are an expert in nutritionist where you need to see the food items from the image\n",
        "               and calculate the total calories, also provide the details of every food items with calories intake\n",
        "               is below format\n",
        "\n",
        "               1. Item 1 - no of calories\n",
        "               2. Item 2 - no of calories\n",
        "               ----\n",
        "               ----\n",
        "\n",
        "\n",
        "\"\"\"\n",
        "\n",
        "## If submit button is clicked\n",
        "\n",
        "if submit:\n",
        "    image_data=input_image_setup(uploaded_file)\n",
        "    response=get_gemini_repsonse(input_prompt,image_data,input)\n",
        "    st.subheader(\"The Response is\")\n",
        "    st.write(response)\n"
      ],
      "metadata": {
        "id": "VQxzgJRdvLpi"
      },
      "execution_count": null,
      "outputs": []
    },
    {
      "cell_type": "code",
      "source": [
        "!npm install -g localtunnel"
      ],
      "metadata": {
        "id": "-cYPsn-BwA-s"
      },
      "execution_count": null,
      "outputs": []
    },
    {
      "cell_type": "code",
      "source": [
        "!curl ipv4.icanhazip.com"
      ],
      "metadata": {
        "id": "qLYGbGRYwLys"
      },
      "execution_count": null,
      "outputs": []
    },
    {
      "cell_type": "code",
      "source": [
        "!streamlit run /content/health.py &> ./logs.txt & npx localtunnel --port 8501"
      ],
      "metadata": {
        "id": "Cj0BezjewNPE"
      },
      "execution_count": null,
      "outputs": []
    }
  ]
}