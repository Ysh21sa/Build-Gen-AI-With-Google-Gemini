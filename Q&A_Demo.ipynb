{
  "cells": [
    {
      "cell_type": "code",
      "execution_count": null,
      "metadata": {
        "id": "13IniceyO3Vf"
      },
      "outputs": [],
      "source": [
        "!pip install -r requirements.txt"
      ]
    },
    {
      "cell_type": "code",
      "source": [
        "%%writefile .env\n",
        "GOOGLE_API_KEY = \"paste your google api key\""
      ],
      "metadata": {
        "colab": {
          "base_uri": "https://localhost:8080/"
        },
        "id": "SW3zh1ARwsN0",
        "outputId": "4fcf2858-4351-4602-a5e1-c2718e86220a"
      },
      "execution_count": 2,
      "outputs": [
        {
          "output_type": "stream",
          "name": "stdout",
          "text": [
            "Writing .env\n"
          ]
        }
      ]
    },
    {
      "cell_type": "code",
      "execution_count": 5,
      "metadata": {
        "id": "r1aB4VtNFkls",
        "colab": {
          "base_uri": "https://localhost:8080/"
        },
        "outputId": "7d596e81-fbec-4f30-834e-6576b8be0af6"
      },
      "outputs": [
        {
          "output_type": "stream",
          "name": "stdout",
          "text": [
            "Writing Q&A_Demo.py\n"
          ]
        }
      ],
      "source": [
        "\n",
        "from dotenv import load_dotenv\n",
        "load_dotenv()\n",
        "import streamlit as st\n",
        "import os\n",
        "import google.generativeai as genai\n",
        "genai.configure(api_key=os.getenv(\"GOOGLE_API_KEY\"))\n",
        "model = genai.GenerativeModel('gemini-pro')\n",
        "def get_gemini_response(question):\n",
        "  response = model.generate_content(question)\n",
        "  return response.text\n",
        "\n",
        "st.set_page_config(page_title=\"Q&A Demo\")\n",
        "st.header(\"Gemini Application\")\n",
        "input = st.text_input(\"Input: \",key = \"input\")\n",
        "submit = st.button(\"Ask the question\")\n",
        "\n",
        "if submit:\n",
        "  response = get_gemini_response(input)\n",
        "  st.subheader(\"the response is \")\n",
        "  st.write(response)\n"
      ]
    },
    {
      "cell_type": "code",
      "source": [
        "!pip install pyngrok\n",
        "from threading import Thread\n",
        "from pyngrok import ngrok\n",
        "\n",
        "ngrok.set_auth_token(\"get the token from ngrok\")"
      ],
      "metadata": {
        "colab": {
          "base_uri": "https://localhost:8080/"
        },
        "id": "ZSLTqU77W9qP",
        "outputId": "d605b0ad-f9fc-4d06-9431-fa0f032c3617"
      },
      "execution_count": null,
      "outputs": [
        {
          "output_type": "stream",
          "name": "stdout",
          "text": [
            "Collecting pyngrok\n",
            "  Downloading pyngrok-7.2.0-py3-none-any.whl.metadata (7.4 kB)\n",
            "Requirement already satisfied: PyYAML>=5.1 in /usr/local/lib/python3.10/dist-packages (from pyngrok) (6.0.1)\n",
            "Downloading pyngrok-7.2.0-py3-none-any.whl (22 kB)\n",
            "Installing collected packages: pyngrok\n",
            "Successfully installed pyngrok-7.2.0\n"
          ]
        }
      ]
    },
    {
      "cell_type": "code",
      "source": [
        "def run_streamlit():\n",
        "    # Change the port if 8501 is already in use or if you prefer another port\n",
        "    os.system('streamlit run /content/Q&A_Demo.py --server.port 8501')"
      ],
      "metadata": {
        "id": "18GxytHzXIEt"
      },
      "execution_count": null,
      "outputs": []
    },
    {
      "cell_type": "code",
      "source": [
        "# Start a thread to run the Streamlit app\n",
        "thread = Thread(target=run_streamlit)\n",
        "thread.start()"
      ],
      "metadata": {
        "id": "iZzR0D3-XJya"
      },
      "execution_count": null,
      "outputs": []
    },
    {
      "cell_type": "code",
      "source": [
        "# Open a tunnel to the streamlit port 8501\n",
        "public_url = ngrok.connect(addr='8501', proto='http', bind_tls=True)\n",
        "print('Your Streamlit app is live at:', public_url)"
      ],
      "metadata": {
        "colab": {
          "base_uri": "https://localhost:8080/"
        },
        "id": "0_20KwfnXLmz",
        "outputId": "2641db0a-3208-4364-b173-03a439b1cc0a"
      },
      "execution_count": null,
      "outputs": [
        {
          "output_type": "stream",
          "name": "stdout",
          "text": [
            "Your Streamlit app is live at: NgrokTunnel: \"https://2d71-35-202-34-96.ngrok-free.app\" -> \"http://localhost:8501\"\n"
          ]
        }
      ]
    },
    {
      "cell_type": "code",
      "source": [
        "ngrok.kill()"
      ],
      "metadata": {
        "id": "WMqh9xNsXMHJ"
      },
      "execution_count": null,
      "outputs": []
    }
  ],
  "metadata": {
    "colab": {
      "provenance": []
    },
    "kernelspec": {
      "display_name": "Python 3",
      "name": "python3"
    },
    "language_info": {
      "name": "python"
    }
  },
  "nbformat": 4,
  "nbformat_minor": 0
}