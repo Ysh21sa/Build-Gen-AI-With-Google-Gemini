{
  "nbformat": 4,
  "nbformat_minor": 0,
  "metadata": {
    "colab": {
      "provenance": []
    },
    "kernelspec": {
      "name": "python3",
      "display_name": "Python 3"
    },
    "language_info": {
      "name": "python"
    }
  },
  "cells": [
    {
      "cell_type": "code",
      "source": [
        "!pip install -r requirements.txt"
      ],
      "metadata": {
        "id": "RuViE23NWr1b"
      },
      "execution_count": null,
      "outputs": []
    },
    {
      "cell_type": "code",
      "source": [
        "%%writefile .env\n",
        "GOOGLE_API_KEY = \"paste your google api key\""
      ],
      "metadata": {
        "id": "deypU9GD9Vxr"
      },
      "execution_count": null,
      "outputs": []
    },
    {
      "cell_type": "code",
      "source": [
        "\n",
        "from dotenv import load_dotenv\n",
        "load_dotenv()\n",
        "\n",
        "import streamlit as st\n",
        "import os\n",
        "import google.generativeai as genai\n",
        "from PIL import Image\n",
        "\n",
        "genai.configure(api_key=os.getenv(\"GOOGLE_API_KEY\"))\n",
        "\n",
        "\n",
        "model = genai.GenerativeModel('gemini-1.5-flash')\n",
        "def get_gemini_response(input,image,prompt):\n",
        "  response = model.generate_content([input,image[0],prompt])\n",
        "  return response.text\n",
        "\n",
        "def input_image_detailes(uploaded_file):\n",
        "  if uploaded_file is not None:\n",
        "    #Read the file into bytes\n",
        "    bytes_data = uploaded_file.getvalue()\n",
        "\n",
        "    image_parts = [\n",
        "        {\n",
        "            \"mime_type\":uploaded_file.type,\n",
        "            \"data\":bytes_data\n",
        "        }\n",
        "    ]\n",
        "    return image_parts\n",
        "\n",
        "  else:\n",
        "    raise FileNotFoundError(\"No file uploaded\")\n",
        "\n",
        "\n",
        "## init the streamlit app\n",
        "st.set_page_config(page_title=\"Multi-language invoice extractor\")\n",
        "\n",
        "st.header(\"Gemini Application\")\n",
        "input = st.text_input(\"Input prompt: \",key = \"input\")\n",
        "\n",
        "uploaded_file = st.file_uploader(\"choose an image of the invoice...\",type=[\"jpg\",\"png\",\"jpeg\"])\n",
        "image =\"\"\n",
        "\n",
        "if uploaded_file is not None:\n",
        "  image = Image.open(uploaded_file)\n",
        "  st.image(image,caption=\"Uploaded Image.\",use_column_width=True)\n",
        "\n",
        "submit = st.button(\"Tell me about the invoice \")\n",
        "\n",
        "input_prompt = \"\"\"\n",
        "You are an expert in understanding invoices.We will upload a image as invoice and\n",
        "you will have to answer any questions based on the uploaded invoice image\n",
        "\"\"\"\n",
        "\n",
        "if submit:\n",
        "  image_data = input_image_details(uploaded_file)\n",
        "  response = get_gemini_response(input_prompt,image_data,input)\n",
        "  st.subheader(\"The Response is \")\n",
        "  st.write(response)\n",
        "\n"
      ],
      "metadata": {
        "id": "dkxOxFnjBNfe"
      },
      "execution_count": null,
      "outputs": []
    },
    {
      "cell_type": "code",
      "source": [
        "!npm install -g localtunnel"
      ],
      "metadata": {
        "id": "rpaPtRyGWkwz"
      },
      "execution_count": null,
      "outputs": []
    },
    {
      "cell_type": "code",
      "source": [
        "!curl ipv4.icanhazip.com"
      ],
      "metadata": {
        "id": "6ybxQ5ZfXLVp"
      },
      "execution_count": null,
      "outputs": []
    },
    {
      "cell_type": "code",
      "source": [
        "!streamlit run /content/invoice.py &> ./logs.txt & npx localtunnel --port 8501"
      ],
      "metadata": {
        "id": "c3X1OxlmXOK1"
      },
      "execution_count": null,
      "outputs": []
    }
  ]
}