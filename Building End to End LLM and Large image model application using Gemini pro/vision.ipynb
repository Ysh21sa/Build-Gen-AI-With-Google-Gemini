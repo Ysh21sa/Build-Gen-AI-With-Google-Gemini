{
  "nbformat": 4,
  "nbformat_minor": 0,
  "metadata": {
    "colab": {
      "provenance": []
    },
    "kernelspec": {
      "name": "python3",
      "display_name": "Python 3"
    },
    "language_info": {
      "name": "python"
    }
  },
  "cells": [
    {
      "cell_type": "code",
      "source": [
        "!pip install -r requirements.txt"
      ],
      "metadata": {
        "id": "4mmM9rLzjYHR"
      },
      "execution_count": null,
      "outputs": []
    },
    {
      "cell_type": "code",
      "source": [
        "%%writefile .env\n",
        "GOOGLE_API_KEY = \"paste your google api key\""
      ],
      "metadata": {
        "id": "9Gnjk-Zr30Nv"
      },
      "execution_count": null,
      "outputs": []
    },
    {
      "cell_type": "code",
      "execution_count": null,
      "metadata": {
        "id": "oauLTk6i61iF"
      },
      "outputs": [],
      "source": [
        "from dotenv import load_dotenv\n",
        "load_dotenv()\n",
        "\n",
        "import streamlit as st\n",
        "import os\n",
        "import google.generativeai as genai\n",
        "from PIL import Image\n",
        "\n",
        "genai.configure(api_key=os.getenv(\"GOOGLE_API_KEY\"))\n",
        "\n",
        "\n",
        "model = genai.GenerativeModel('gemini-pro')\n",
        "def get_gemini_response(input,image):\n",
        "  if input!=\"\":\n",
        "    response = model.generate_content([input,image])\n",
        "  else:\n",
        "    response = model.generate_content(image)\n",
        "  return response.text\n",
        "\n",
        "st.set_page_config(page_title=\"Gemini Image Demo\")\n",
        "\n",
        "st.header(\"Gemini Application\")\n",
        "input = st.text_input(\"Input prompt: \",key = \"input\")\n",
        "\n",
        "uploaded_file = st.file_uploader(\"choose an image...\",type=[\"jpg\",\"png\",\"jpeg\"])\n",
        "image =\"\"\n",
        "\n",
        "if uploaded_file is not None:\n",
        "  image = Image.open(uploaded_file)\n",
        "  st.image(image,caption=\"Uploaded Image.\",use_column_width=True)\n",
        "\n",
        "submit = st.button(\"Tell me about the image \")\n",
        "\n",
        "if submit:\n",
        "  response = get_gemini_response(input,image)\n",
        "  st.subheader(\"the response is \")\n",
        "  st.write(response)"
      ]
    },
    {
      "cell_type": "code",
      "source": [
        "!npm install -g localtunnel"
      ],
      "metadata": {
        "id": "ERVCSvxHkfEM"
      },
      "execution_count": null,
      "outputs": []
    },
    {
      "cell_type": "code",
      "source": [
        "!curl ipv4.icanhazip.com"
      ],
      "metadata": {
        "id": "Wr00zbrJlOVi"
      },
      "execution_count": null,
      "outputs": []
    },
    {
      "cell_type": "code",
      "source": [
        "!streamlit run /content/vision.py &> ./logs.txt & npx localtunnel --port 8501"
      ],
      "metadata": {
        "id": "mvuHb--Uksky"
      },
      "execution_count": null,
      "outputs": []
    },
    {
      "cell_type": "code",
      "source": [],
      "metadata": {
        "id": "vcFmV0WYoQjk"
      },
      "execution_count": null,
      "outputs": []
    }
  ]
}